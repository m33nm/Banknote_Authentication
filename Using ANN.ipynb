{
 "cells": [
  {
   "cell_type": "code",
   "execution_count": 1,
   "id": "67140f61",
   "metadata": {},
   "outputs": [],
   "source": [
    "import numpy as np\n",
    "import pandas as pd\n",
    "import matplotlib.pyplot as plt\n",
    "import seaborn as sns\n",
    "import tensorflow as tf\n",
    "from sklearn import preprocessing\n",
    "from sklearn.preprocessing import StandardScaler\n",
    "from sklearn.model_selection import train_test_split\n",
    "from imblearn.over_sampling import SMOTE"
   ]
  },
  {
   "cell_type": "code",
   "execution_count": 2,
   "id": "8d660c86",
   "metadata": {},
   "outputs": [],
   "source": [
    "data = pd.read_csv('data_banknote_authentication.txt')"
   ]
  },
  {
   "cell_type": "code",
   "execution_count": 3,
   "id": "7a0b7aff",
   "metadata": {},
   "outputs": [],
   "source": [
    "col = ['Variance', 'Skewness', 'Kurtosis', 'Entropy', 'Class']\n",
    "data.columns = col"
   ]
  },
  {
   "cell_type": "code",
   "execution_count": 4,
   "id": "484401b1",
   "metadata": {},
   "outputs": [
    {
     "data": {
      "text/plain": [
       "0    762\n",
       "1    610\n",
       "Name: Class, dtype: int64"
      ]
     },
     "execution_count": 4,
     "metadata": {},
     "output_type": "execute_result"
    }
   ],
   "source": [
    "data['Class'].value_counts()"
   ]
  },
  {
   "cell_type": "code",
   "execution_count": 5,
   "id": "cb06a22c",
   "metadata": {},
   "outputs": [
    {
     "name": "stdout",
     "output_type": "stream",
     "text": [
      "[0 0 0 ... 1 1 1]\n"
     ]
    }
   ],
   "source": [
    "X = data.iloc[:,[0,1,2,3]].values\n",
    "y = data.iloc[:,4].values\n",
    "print(y)"
   ]
  },
  {
   "cell_type": "code",
   "execution_count": 6,
   "id": "fa42bc3c",
   "metadata": {},
   "outputs": [
    {
     "data": {
      "text/plain": [
       "array([[0.76900389, 0.83964273, 0.10678269, 0.73662766],\n",
       "       [0.83565902, 0.82098209, 0.12180412, 0.64432563],\n",
       "       [0.78662859, 0.41664827, 0.31060805, 0.78695091],\n",
       "       ...,\n",
       "       [0.23738543, 0.01176814, 0.98560321, 0.52475518],\n",
       "       [0.25084193, 0.20170105, 0.76158701, 0.6606745 ],\n",
       "       [0.32452819, 0.49074676, 0.34334762, 0.88594888]])"
      ]
     },
     "execution_count": 6,
     "metadata": {},
     "output_type": "execute_result"
    }
   ],
   "source": [
    "#normalise the features to a common scale\n",
    "min_max_scaler = preprocessing.MinMaxScaler()\n",
    "X_minmax = min_max_scaler.fit_transform(X)\n",
    "X_minmax"
   ]
  },
  {
   "cell_type": "code",
   "execution_count": 7,
   "id": "4eaf6dc6",
   "metadata": {},
   "outputs": [],
   "source": [
    "X_train, X_test, y_train, y_test = train_test_split(\n",
    "    X_minmax,y,test_size=0.2, stratify=y, random_state = 44)"
   ]
  },
  {
   "cell_type": "code",
   "execution_count": 8,
   "id": "0e4d58eb",
   "metadata": {},
   "outputs": [
    {
     "data": {
      "text/plain": [
       "<AxesSubplot:ylabel='count'>"
      ]
     },
     "execution_count": 8,
     "metadata": {},
     "output_type": "execute_result"
    },
    {
     "data": {
      "image/png": "[encoded data removed]",
      "text/plain": [
       "<Figure size 432x288 with 1 Axes>"
      ]
     },
     "metadata": {
      "needs_background": "light"
     },
     "output_type": "display_data"
    }
   ],
   "source": [
    "#balancing features\n",
    "resampler = SMOTE(random_state=2)\n",
    "X_train_smote, y_train_smote = resampler.fit_resample(X_train, y_train)\n",
    "\n",
    "sns.countplot(x=y_train_smote)"
   ]
  },
  {
   "cell_type": "markdown",
   "id": "1cb29b8c",
   "metadata": {},
   "source": [
    "# ANN Model"
   ]
  },
  {
   "cell_type": "markdown",
   "id": "2756c817",
   "metadata": {},
   "source": [
    "### Unbalanced data"
   ]
  },
  {
   "cell_type": "code",
   "execution_count": 9,
   "id": "a12e45aa",
   "metadata": {},
   "outputs": [],
   "source": [
    "#instantiating the model and adding layers\n",
    "model = tf.keras.models.Sequential()\n",
    "model.add(tf.keras.layers.Dense(4,activation='relu',input_shape=(4,)))\n",
    "model.add(tf.keras.layers.Dense(1,activation='sigmoid'))"
   ]
  },
  {
   "cell_type": "code",
   "execution_count": 10,
   "id": "88b9f8ac",
   "metadata": {},
   "outputs": [],
   "source": [
    "#compile the ANN\n",
    "model.compile(optimizer='adam',\n",
    "loss='binary_crossentropy',\n",
    "metrics='accuracy')"
   ]
  },
  {
   "cell_type": "code",
   "execution_count": 11,
   "id": "0f0547a7",
   "metadata": {},
   "outputs": [
    {
     "name": "stdout",
     "output_type": "stream",
     "text": [
      "Model: \"sequential\"\n",
      "_________________________________________________________________\n",
      " Layer (type)                Output Shape              Param #   \n",
      "=================================================================\n",
      " dense (Dense)               (None, 4)                 20        \n",
      "                                                                 \n",
      " dense_1 (Dense)             (None, 1)                 5         \n",
      "                                                                 \n",
      "=================================================================\n",
      "Total params: 25\n",
      "Trainable params: 25\n",
      "Non-trainable params: 0\n",
      "_________________________________________________________________\n"
     ]
    }
   ],
   "source": [
    "model.summary()"
   ]
  },
  {
   "cell_type": "code",
   "execution_count": 12,
   "id": "da9e1ffe",
   "metadata": {},
   "outputs": [
    {
     "name": "stdout",
     "output_type": "stream",
     "text": [
      "Epoch 1/50\n",
      "110/110 - 1s - loss: 1.2790 - accuracy: 0.6602 - val_loss: 0.6514 - val_accuracy: 0.6545 - 1s/epoch - 10ms/step\n",
      "Epoch 2/50\n",
      "110/110 - 0s - loss: 1.1478 - accuracy: 0.5553 - val_loss: 0.6903 - val_accuracy: 0.4818 - 160ms/epoch - 1ms/step\n",
      "Epoch 3/50\n",
      "110/110 - 0s - loss: 1.0911 - accuracy: 0.5177 - val_loss: 0.7009 - val_accuracy: 0.4500 - 162ms/epoch - 1ms/step\n",
      "Epoch 4/50\n",
      "110/110 - 0s - loss: 1.0557 - accuracy: 0.5314 - val_loss: 0.6917 - val_accuracy: 0.4636 - 156ms/epoch - 1ms/step\n",
      "Epoch 5/50\n",
      "110/110 - 0s - loss: 1.0281 - accuracy: 0.5382 - val_loss: 0.6906 - val_accuracy: 0.4818 - 162ms/epoch - 1ms/step\n",
      "Epoch 6/50\n",
      "110/110 - 0s - loss: 1.0015 - accuracy: 0.5439 - val_loss: 0.6723 - val_accuracy: 0.5045 - 166ms/epoch - 2ms/step\n",
      "Epoch 7/50\n",
      "110/110 - 0s - loss: 0.9769 - accuracy: 0.5553 - val_loss: 0.6531 - val_accuracy: 0.5318 - 158ms/epoch - 1ms/step\n",
      "Epoch 8/50\n",
      "110/110 - 0s - loss: 0.9517 - accuracy: 0.5656 - val_loss: 0.6350 - val_accuracy: 0.5773 - 161ms/epoch - 1ms/step\n",
      "Epoch 9/50\n",
      "110/110 - 0s - loss: 0.9275 - accuracy: 0.5781 - val_loss: 0.6278 - val_accuracy: 0.5727 - 161ms/epoch - 1ms/step\n",
      "Epoch 10/50\n",
      "110/110 - 0s - loss: 0.9032 - accuracy: 0.6009 - val_loss: 0.6016 - val_accuracy: 0.6364 - 155ms/epoch - 1ms/step\n",
      "Epoch 11/50\n",
      "110/110 - 0s - loss: 0.8790 - accuracy: 0.6009 - val_loss: 0.5864 - val_accuracy: 0.6545 - 157ms/epoch - 1ms/step\n",
      "Epoch 12/50\n",
      "110/110 - 0s - loss: 0.8567 - accuracy: 0.6306 - val_loss: 0.5759 - val_accuracy: 0.6545 - 155ms/epoch - 1ms/step\n",
      "Epoch 13/50\n",
      "110/110 - 0s - loss: 0.8318 - accuracy: 0.6477 - val_loss: 0.5613 - val_accuracy: 0.6773 - 163ms/epoch - 1ms/step\n",
      "Epoch 14/50\n",
      "110/110 - 0s - loss: 0.8089 - accuracy: 0.6670 - val_loss: 0.5406 - val_accuracy: 0.7182 - 156ms/epoch - 1ms/step\n",
      "Epoch 15/50\n",
      "110/110 - 0s - loss: 0.7863 - accuracy: 0.7081 - val_loss: 0.5355 - val_accuracy: 0.7364 - 163ms/epoch - 1ms/step\n",
      "Epoch 16/50\n",
      "110/110 - 0s - loss: 0.7636 - accuracy: 0.7149 - val_loss: 0.5090 - val_accuracy: 0.7500 - 157ms/epoch - 1ms/step\n",
      "Epoch 17/50\n",
      "110/110 - 0s - loss: 0.7422 - accuracy: 0.7446 - val_loss: 0.4868 - val_accuracy: 0.7864 - 159ms/epoch - 1ms/step\n",
      "Epoch 18/50\n",
      "110/110 - 0s - loss: 0.7203 - accuracy: 0.7742 - val_loss: 0.4931 - val_accuracy: 0.7591 - 155ms/epoch - 1ms/step\n",
      "Epoch 19/50\n",
      "110/110 - 0s - loss: 0.6985 - accuracy: 0.7834 - val_loss: 0.4737 - val_accuracy: 0.7818 - 156ms/epoch - 1ms/step\n",
      "Epoch 20/50\n",
      "110/110 - 0s - loss: 0.6782 - accuracy: 0.7902 - val_loss: 0.4618 - val_accuracy: 0.7864 - 156ms/epoch - 1ms/step\n",
      "Epoch 21/50\n",
      "110/110 - 0s - loss: 0.6577 - accuracy: 0.7993 - val_loss: 0.4535 - val_accuracy: 0.7955 - 153ms/epoch - 1ms/step\n",
      "Epoch 22/50\n",
      "110/110 - 0s - loss: 0.6387 - accuracy: 0.8062 - val_loss: 0.4297 - val_accuracy: 0.8182 - 155ms/epoch - 1ms/step\n",
      "Epoch 23/50\n",
      "110/110 - 0s - loss: 0.6193 - accuracy: 0.8290 - val_loss: 0.4258 - val_accuracy: 0.8045 - 153ms/epoch - 1ms/step\n",
      "Epoch 24/50\n",
      "110/110 - 0s - loss: 0.6011 - accuracy: 0.8438 - val_loss: 0.4199 - val_accuracy: 0.8000 - 153ms/epoch - 1ms/step\n",
      "Epoch 25/50\n",
      "110/110 - 0s - loss: 0.5840 - accuracy: 0.8347 - val_loss: 0.3975 - val_accuracy: 0.8273 - 139ms/epoch - 1ms/step\n",
      "Epoch 26/50\n",
      "110/110 - 0s - loss: 0.5669 - accuracy: 0.8563 - val_loss: 0.3813 - val_accuracy: 0.8500 - 157ms/epoch - 1ms/step\n",
      "Epoch 27/50\n",
      "110/110 - 0s - loss: 0.5502 - accuracy: 0.8643 - val_loss: 0.3724 - val_accuracy: 0.8500 - 153ms/epoch - 1ms/step\n",
      "Epoch 28/50\n",
      "110/110 - 0s - loss: 0.5341 - accuracy: 0.8734 - val_loss: 0.3758 - val_accuracy: 0.8364 - 157ms/epoch - 1ms/step\n",
      "Epoch 29/50\n",
      "110/110 - 0s - loss: 0.5183 - accuracy: 0.8746 - val_loss: 0.3565 - val_accuracy: 0.8500 - 158ms/epoch - 1ms/step\n",
      "Epoch 30/50\n",
      "110/110 - 0s - loss: 0.5029 - accuracy: 0.8871 - val_loss: 0.3564 - val_accuracy: 0.8500 - 158ms/epoch - 1ms/step\n",
      "Epoch 31/50\n",
      "110/110 - 0s - loss: 0.4876 - accuracy: 0.8871 - val_loss: 0.3412 - val_accuracy: 0.8545 - 159ms/epoch - 1ms/step\n",
      "Epoch 32/50\n",
      "110/110 - 0s - loss: 0.4734 - accuracy: 0.8940 - val_loss: 0.3360 - val_accuracy: 0.8545 - 158ms/epoch - 1ms/step\n",
      "Epoch 33/50\n",
      "110/110 - 0s - loss: 0.4590 - accuracy: 0.8997 - val_loss: 0.3245 - val_accuracy: 0.8727 - 156ms/epoch - 1ms/step\n",
      "Epoch 34/50\n",
      "110/110 - 0s - loss: 0.4451 - accuracy: 0.9019 - val_loss: 0.3135 - val_accuracy: 0.8818 - 159ms/epoch - 1ms/step\n",
      "Epoch 35/50\n",
      "110/110 - 0s - loss: 0.4317 - accuracy: 0.9111 - val_loss: 0.3143 - val_accuracy: 0.8773 - 154ms/epoch - 1ms/step\n",
      "Epoch 36/50\n",
      "110/110 - 0s - loss: 0.4179 - accuracy: 0.9168 - val_loss: 0.3203 - val_accuracy: 0.8682 - 153ms/epoch - 1ms/step\n",
      "Epoch 37/50\n",
      "110/110 - 0s - loss: 0.4063 - accuracy: 0.9111 - val_loss: 0.2932 - val_accuracy: 0.8909 - 159ms/epoch - 1ms/step\n",
      "Epoch 38/50\n",
      "110/110 - 0s - loss: 0.3936 - accuracy: 0.9202 - val_loss: 0.2965 - val_accuracy: 0.8864 - 165ms/epoch - 1ms/step\n",
      "Epoch 39/50\n",
      "110/110 - 0s - loss: 0.3825 - accuracy: 0.9190 - val_loss: 0.2792 - val_accuracy: 0.8955 - 167ms/epoch - 2ms/step\n",
      "Epoch 40/50\n",
      "110/110 - 0s - loss: 0.3704 - accuracy: 0.9270 - val_loss: 0.2646 - val_accuracy: 0.9045 - 154ms/epoch - 1ms/step\n",
      "Epoch 41/50\n",
      "110/110 - 0s - loss: 0.3603 - accuracy: 0.9270 - val_loss: 0.2586 - val_accuracy: 0.9045 - 151ms/epoch - 1ms/step\n",
      "Epoch 42/50\n",
      "110/110 - 0s - loss: 0.3485 - accuracy: 0.9327 - val_loss: 0.2692 - val_accuracy: 0.9045 - 160ms/epoch - 1ms/step\n",
      "Epoch 43/50\n",
      "110/110 - 0s - loss: 0.3381 - accuracy: 0.9339 - val_loss: 0.2454 - val_accuracy: 0.9136 - 157ms/epoch - 1ms/step\n",
      "Epoch 44/50\n",
      "110/110 - 0s - loss: 0.3282 - accuracy: 0.9418 - val_loss: 0.2551 - val_accuracy: 0.9045 - 151ms/epoch - 1ms/step\n",
      "Epoch 45/50\n",
      "110/110 - 0s - loss: 0.3181 - accuracy: 0.9407 - val_loss: 0.2355 - val_accuracy: 0.9136 - 155ms/epoch - 1ms/step\n",
      "Epoch 46/50\n",
      "110/110 - 0s - loss: 0.3086 - accuracy: 0.9453 - val_loss: 0.2328 - val_accuracy: 0.9227 - 157ms/epoch - 1ms/step\n",
      "Epoch 47/50\n",
      "110/110 - 0s - loss: 0.2992 - accuracy: 0.9487 - val_loss: 0.2564 - val_accuracy: 0.9045 - 153ms/epoch - 1ms/step\n",
      "Epoch 48/50\n",
      "110/110 - 0s - loss: 0.2899 - accuracy: 0.9464 - val_loss: 0.2190 - val_accuracy: 0.9273 - 157ms/epoch - 1ms/step\n",
      "Epoch 49/50\n",
      "110/110 - 0s - loss: 0.2823 - accuracy: 0.9555 - val_loss: 0.2284 - val_accuracy: 0.9182 - 150ms/epoch - 1ms/step\n",
      "Epoch 50/50\n",
      "110/110 - 0s - loss: 0.2740 - accuracy: 0.9532 - val_loss: 0.2188 - val_accuracy: 0.9227 - 152ms/epoch - 1ms/step\n"
     ]
    }
   ],
   "source": [
    "#fitting the ANN using normalized data\n",
    "class_weights = {0:1, 1:3}\n",
    "history = model.fit(X_train, y_train, batch_size = 8, epochs= 50, verbose=2, class_weight=class_weights, validation_split=0.2)"
   ]
  },
  {
   "cell_type": "code",
   "execution_count": 13,
   "id": "1b89f481",
   "metadata": {},
   "outputs": [
    {
     "data": {
      "text/plain": [
       "<matplotlib.legend.Legend at 0x22fb9da3a00>"
      ]
     },
     "execution_count": 13,
     "metadata": {},
     "output_type": "execute_result"
    },
    {
     "data": {
      "image/png": "[encoded data removed]",
      "text/plain": [
       "<Figure size 432x288 with 1 Axes>"
      ]
     },
     "metadata": {
      "needs_background": "light"
     },
     "output_type": "display_data"
    }
   ],
   "source": [
    "#evaluating\n",
    "accuracy = history.history['accuracy']\n",
    "validation_accuracy = history.history['val_accuracy']\n",
    "plt.plot(accuracy, label='Training Set Accuracy')\n",
    "plt.plot(validation_accuracy, label='Validation Set Accuracy')\n",
    "plt.ylabel('Accuracy')\n",
    "plt.ylim([min(plt.ylim()),1])\n",
    "plt.title('Training and Validation Accuracy Across Epochs, Unbalanced data')\n",
    "plt.legend()"
   ]
  },
  {
   "cell_type": "markdown",
   "id": "79051c0c",
   "metadata": {},
   "source": [
    "##### loss = history.history['loss']\n",
    "validation_loss = history.history['val_loss']\n",
    "plt.plot(loss, label='Training Set Loss')\n",
    "plt.plot(validation_loss, label='Validation Set Loss')\n",
    "plt.ylabel('Loss')\n",
    "plt.title('Training and Validation Loss Across Epochs, Unbalanced data')\n",
    "plt.legend()"
   ]
  },
  {
   "cell_type": "code",
   "execution_count": 14,
   "id": "408bac97",
   "metadata": {},
   "outputs": [
    {
     "name": "stdout",
     "output_type": "stream",
     "text": [
      "9/9 [==============================] - 0s 1ms/step\n"
     ]
    },
    {
     "data": {
      "text/plain": [
       "array([[ True],\n",
       "       [False],\n",
       "       [ True],\n",
       "       [ True],\n",
       "       [ True],\n",
       "       [False],\n",
       "       [ True],\n",
       "       [ True],\n",
       "       [ True],\n",
       "       [False],\n",
       "       [False],\n",
       "       [ True],\n",
       "       [ True],\n",
       "       [False],\n",
       "       [False],\n",
       "       [ True],\n",
       "       [ True],\n",
       "       [False],\n",
       "       [False],\n",
       "       [ True],\n",
       "       [ True],\n",
       "       [False],\n",
       "       [ True],\n",
       "       [ True],\n",
       "       [ True],\n",
       "       [ True],\n",
       "       [False],\n",
       "       [False],\n",
       "       [ True],\n",
       "       [ True],\n",
       "       [False],\n",
       "       [False],\n",
       "       [ True],\n",
       "       [ True],\n",
       "       [False],\n",
       "       [ True],\n",
       "       [False],\n",
       "       [False],\n",
       "       [False],\n",
       "       [False],\n",
       "       [ True],\n",
       "       [False],\n",
       "       [ True],\n",
       "       [ True],\n",
       "       [False],\n",
       "       [ True],\n",
       "       [ True],\n",
       "       [False],\n",
       "       [False],\n",
       "       [False],\n",
       "       [False],\n",
       "       [ True],\n",
       "       [ True],\n",
       "       [False],\n",
       "       [ True],\n",
       "       [False],\n",
       "       [ True],\n",
       "       [False],\n",
       "       [ True],\n",
       "       [False],\n",
       "       [ True],\n",
       "       [False],\n",
       "       [False],\n",
       "       [False],\n",
       "       [False],\n",
       "       [False],\n",
       "       [False],\n",
       "       [ True],\n",
       "       [False],\n",
       "       [False],\n",
       "       [ True],\n",
       "       [False],\n",
       "       [False],\n",
       "       [ True],\n",
       "       [False],\n",
       "       [False],\n",
       "       [ True],\n",
       "       [False],\n",
       "       [False],\n",
       "       [False],\n",
       "       [ True],\n",
       "       [False],\n",
       "       [False],\n",
       "       [ True],\n",
       "       [False],\n",
       "       [False],\n",
       "       [False],\n",
       "       [ True],\n",
       "       [False],\n",
       "       [False],\n",
       "       [ True],\n",
       "       [False],\n",
       "       [ True],\n",
       "       [False],\n",
       "       [False],\n",
       "       [False],\n",
       "       [False],\n",
       "       [False],\n",
       "       [False],\n",
       "       [False],\n",
       "       [False],\n",
       "       [ True],\n",
       "       [ True],\n",
       "       [ True],\n",
       "       [False],\n",
       "       [False],\n",
       "       [False],\n",
       "       [False],\n",
       "       [False],\n",
       "       [False],\n",
       "       [False],\n",
       "       [ True],\n",
       "       [False],\n",
       "       [ True],\n",
       "       [False],\n",
       "       [False],\n",
       "       [False],\n",
       "       [False],\n",
       "       [ True],\n",
       "       [False],\n",
       "       [ True],\n",
       "       [False],\n",
       "       [False],\n",
       "       [False],\n",
       "       [False],\n",
       "       [False],\n",
       "       [ True],\n",
       "       [False],\n",
       "       [ True],\n",
       "       [False],\n",
       "       [False],\n",
       "       [False],\n",
       "       [ True],\n",
       "       [False],\n",
       "       [ True],\n",
       "       [ True],\n",
       "       [False],\n",
       "       [ True],\n",
       "       [ True],\n",
       "       [ True],\n",
       "       [False],\n",
       "       [False],\n",
       "       [False],\n",
       "       [ True],\n",
       "       [False],\n",
       "       [False],\n",
       "       [ True],\n",
       "       [ True],\n",
       "       [ True],\n",
       "       [ True],\n",
       "       [ True],\n",
       "       [ True],\n",
       "       [ True],\n",
       "       [False],\n",
       "       [False],\n",
       "       [ True],\n",
       "       [False],\n",
       "       [ True],\n",
       "       [False],\n",
       "       [ True],\n",
       "       [ True],\n",
       "       [False],\n",
       "       [ True],\n",
       "       [ True],\n",
       "       [ True],\n",
       "       [ True],\n",
       "       [ True],\n",
       "       [False],\n",
       "       [False],\n",
       "       [False],\n",
       "       [ True],\n",
       "       [ True],\n",
       "       [ True],\n",
       "       [ True],\n",
       "       [False],\n",
       "       [ True],\n",
       "       [ True],\n",
       "       [ True],\n",
       "       [False],\n",
       "       [ True],\n",
       "       [ True],\n",
       "       [ True],\n",
       "       [False],\n",
       "       [ True],\n",
       "       [ True],\n",
       "       [ True],\n",
       "       [ True],\n",
       "       [ True],\n",
       "       [False],\n",
       "       [False],\n",
       "       [False],\n",
       "       [ True],\n",
       "       [False],\n",
       "       [ True],\n",
       "       [ True],\n",
       "       [False],\n",
       "       [False],\n",
       "       [False],\n",
       "       [False],\n",
       "       [ True],\n",
       "       [ True],\n",
       "       [ True],\n",
       "       [False],\n",
       "       [False],\n",
       "       [False],\n",
       "       [ True],\n",
       "       [False],\n",
       "       [ True],\n",
       "       [ True],\n",
       "       [False],\n",
       "       [False],\n",
       "       [ True],\n",
       "       [False],\n",
       "       [ True],\n",
       "       [False],\n",
       "       [ True],\n",
       "       [ True],\n",
       "       [ True],\n",
       "       [False],\n",
       "       [ True],\n",
       "       [False],\n",
       "       [ True],\n",
       "       [ True],\n",
       "       [ True],\n",
       "       [ True],\n",
       "       [ True],\n",
       "       [ True],\n",
       "       [ True],\n",
       "       [ True],\n",
       "       [False],\n",
       "       [ True],\n",
       "       [ True],\n",
       "       [ True],\n",
       "       [False],\n",
       "       [False],\n",
       "       [False],\n",
       "       [False],\n",
       "       [ True],\n",
       "       [ True],\n",
       "       [False],\n",
       "       [False],\n",
       "       [False],\n",
       "       [False],\n",
       "       [ True],\n",
       "       [False],\n",
       "       [False],\n",
       "       [ True],\n",
       "       [ True],\n",
       "       [False],\n",
       "       [False],\n",
       "       [False],\n",
       "       [ True],\n",
       "       [ True],\n",
       "       [ True],\n",
       "       [ True],\n",
       "       [ True],\n",
       "       [False],\n",
       "       [False],\n",
       "       [ True],\n",
       "       [False],\n",
       "       [ True],\n",
       "       [ True],\n",
       "       [ True],\n",
       "       [False],\n",
       "       [False],\n",
       "       [False],\n",
       "       [ True],\n",
       "       [False],\n",
       "       [ True],\n",
       "       [ True],\n",
       "       [False],\n",
       "       [False],\n",
       "       [ True],\n",
       "       [ True],\n",
       "       [False]])"
      ]
     },
     "execution_count": 14,
     "metadata": {},
     "output_type": "execute_result"
    }
   ],
   "source": [
    "y_pred_ann = model.predict(X_test)\n",
    "y_pred_ann = (y_pred_ann>0.5)\n",
    "y_pred_ann"
   ]
  },
  {
   "cell_type": "code",
   "execution_count": 15,
   "id": "7e258412",
   "metadata": {},
   "outputs": [
    {
     "data": {
      "image/png": "[encoded data removed]",
      "text/plain": [
       "<Figure size 432x288 with 2 Axes>"
      ]
     },
     "metadata": {
      "needs_background": "light"
     },
     "output_type": "display_data"
    }
   ],
   "source": [
    "from sklearn.metrics import confusion_matrix, classification_report\n",
    "\n",
    "confusion_matrix = confusion_matrix(y_test,y_pred_ann)\n",
    "\n",
    "ax = sns.heatmap(confusion_matrix, cmap='flare',annot=True, fmt='d')\n",
    "plt.xlabel(\"Predicted Class\",fontsize=12)\n",
    "plt.ylabel(\"True Class\",fontsize=12)\n",
    "plt.title(\"Confusion Matrix, Unbalanced\",fontsize=12)\n",
    "plt.show()"
   ]
  },
  {
   "cell_type": "code",
   "execution_count": 16,
   "id": "c7d41501",
   "metadata": {},
   "outputs": [
    {
     "data": {
      "text/plain": [
       "0.9490909090909091"
      ]
     },
     "execution_count": 16,
     "metadata": {},
     "output_type": "execute_result"
    }
   ],
   "source": [
    "from sklearn.metrics import accuracy_score\n",
    "accuracy_score = accuracy_score(y_test, y_pred_ann)\n",
    "accuracy_score"
   ]
  },
  {
   "cell_type": "code",
   "execution_count": 17,
   "id": "b4af9af4",
   "metadata": {},
   "outputs": [
    {
     "name": "stdout",
     "output_type": "stream",
     "text": [
      "              precision    recall  f1-score   support\n",
      "\n",
      "           0       0.99      0.92      0.95       153\n",
      "           1       0.90      0.99      0.95       122\n",
      "\n",
      "    accuracy                           0.95       275\n",
      "   macro avg       0.95      0.95      0.95       275\n",
      "weighted avg       0.95      0.95      0.95       275\n",
      "\n"
     ]
    }
   ],
   "source": [
    "print(classification_report(y_test,y_pred_ann))"
   ]
  },
  {
   "cell_type": "markdown",
   "id": "04209e28",
   "metadata": {},
   "source": [
    "## Balanced data"
   ]
  },
  {
   "cell_type": "code",
   "execution_count": 18,
   "id": "20cacde7",
   "metadata": {},
   "outputs": [
    {
     "name": "stdout",
     "output_type": "stream",
     "text": [
      "Epoch 1/50\n",
      "122/122 - 0s - loss: 0.1586 - accuracy: 0.9702 - val_loss: 0.1699 - val_accuracy: 0.9631 - 465ms/epoch - 4ms/step\n",
      "Epoch 2/50\n",
      "122/122 - 0s - loss: 0.1508 - accuracy: 0.9754 - val_loss: 0.1600 - val_accuracy: 0.9631 - 154ms/epoch - 1ms/step\n",
      "Epoch 3/50\n",
      "122/122 - 0s - loss: 0.1483 - accuracy: 0.9743 - val_loss: 0.1558 - val_accuracy: 0.9631 - 154ms/epoch - 1ms/step\n",
      "Epoch 4/50\n",
      "122/122 - 0s - loss: 0.1455 - accuracy: 0.9754 - val_loss: 0.1608 - val_accuracy: 0.9631 - 184ms/epoch - 2ms/step\n",
      "Epoch 5/50\n",
      "122/122 - 0s - loss: 0.1429 - accuracy: 0.9754 - val_loss: 0.1542 - val_accuracy: 0.9672 - 164ms/epoch - 1ms/step\n",
      "Epoch 6/50\n",
      "122/122 - 0s - loss: 0.1403 - accuracy: 0.9774 - val_loss: 0.1527 - val_accuracy: 0.9672 - 176ms/epoch - 1ms/step\n",
      "Epoch 7/50\n",
      "122/122 - 0s - loss: 0.1377 - accuracy: 0.9774 - val_loss: 0.1538 - val_accuracy: 0.9672 - 185ms/epoch - 2ms/step\n",
      "Epoch 8/50\n",
      "122/122 - 0s - loss: 0.1349 - accuracy: 0.9764 - val_loss: 0.1504 - val_accuracy: 0.9672 - 165ms/epoch - 1ms/step\n",
      "Epoch 9/50\n",
      "122/122 - 0s - loss: 0.1316 - accuracy: 0.9784 - val_loss: 0.1422 - val_accuracy: 0.9672 - 161ms/epoch - 1ms/step\n",
      "Epoch 10/50\n",
      "122/122 - 0s - loss: 0.1297 - accuracy: 0.9815 - val_loss: 0.1415 - val_accuracy: 0.9672 - 163ms/epoch - 1ms/step\n",
      "Epoch 11/50\n",
      "122/122 - 0s - loss: 0.1266 - accuracy: 0.9815 - val_loss: 0.1391 - val_accuracy: 0.9672 - 161ms/epoch - 1ms/step\n",
      "Epoch 12/50\n",
      "122/122 - 0s - loss: 0.1242 - accuracy: 0.9846 - val_loss: 0.1386 - val_accuracy: 0.9672 - 157ms/epoch - 1ms/step\n",
      "Epoch 13/50\n",
      "122/122 - 0s - loss: 0.1216 - accuracy: 0.9856 - val_loss: 0.1365 - val_accuracy: 0.9672 - 156ms/epoch - 1ms/step\n",
      "Epoch 14/50\n",
      "122/122 - 0s - loss: 0.1191 - accuracy: 0.9867 - val_loss: 0.1334 - val_accuracy: 0.9672 - 159ms/epoch - 1ms/step\n",
      "Epoch 15/50\n",
      "122/122 - 0s - loss: 0.1164 - accuracy: 0.9867 - val_loss: 0.1321 - val_accuracy: 0.9672 - 159ms/epoch - 1ms/step\n",
      "Epoch 16/50\n",
      "122/122 - 0s - loss: 0.1140 - accuracy: 0.9846 - val_loss: 0.1306 - val_accuracy: 0.9672 - 158ms/epoch - 1ms/step\n",
      "Epoch 17/50\n",
      "122/122 - 0s - loss: 0.1113 - accuracy: 0.9856 - val_loss: 0.1288 - val_accuracy: 0.9672 - 158ms/epoch - 1ms/step\n",
      "Epoch 18/50\n",
      "122/122 - 0s - loss: 0.1092 - accuracy: 0.9867 - val_loss: 0.1223 - val_accuracy: 0.9754 - 155ms/epoch - 1ms/step\n",
      "Epoch 19/50\n",
      "122/122 - 0s - loss: 0.1069 - accuracy: 0.9877 - val_loss: 0.1217 - val_accuracy: 0.9754 - 160ms/epoch - 1ms/step\n",
      "Epoch 20/50\n",
      "122/122 - 0s - loss: 0.1049 - accuracy: 0.9877 - val_loss: 0.1212 - val_accuracy: 0.9754 - 165ms/epoch - 1ms/step\n",
      "Epoch 21/50\n",
      "122/122 - 0s - loss: 0.1023 - accuracy: 0.9867 - val_loss: 0.1187 - val_accuracy: 0.9754 - 162ms/epoch - 1ms/step\n",
      "Epoch 22/50\n",
      "122/122 - 0s - loss: 0.1001 - accuracy: 0.9887 - val_loss: 0.1177 - val_accuracy: 0.9754 - 163ms/epoch - 1ms/step\n",
      "Epoch 23/50\n",
      "122/122 - 0s - loss: 0.0981 - accuracy: 0.9887 - val_loss: 0.1169 - val_accuracy: 0.9754 - 161ms/epoch - 1ms/step\n",
      "Epoch 24/50\n",
      "122/122 - 0s - loss: 0.0963 - accuracy: 0.9887 - val_loss: 0.1125 - val_accuracy: 0.9754 - 155ms/epoch - 1ms/step\n",
      "Epoch 25/50\n",
      "122/122 - 0s - loss: 0.0942 - accuracy: 0.9897 - val_loss: 0.1079 - val_accuracy: 0.9836 - 159ms/epoch - 1ms/step\n",
      "Epoch 26/50\n",
      "122/122 - 0s - loss: 0.0919 - accuracy: 0.9887 - val_loss: 0.1061 - val_accuracy: 0.9836 - 159ms/epoch - 1ms/step\n",
      "Epoch 27/50\n",
      "122/122 - 0s - loss: 0.0900 - accuracy: 0.9908 - val_loss: 0.1040 - val_accuracy: 0.9877 - 157ms/epoch - 1ms/step\n",
      "Epoch 28/50\n",
      "122/122 - 0s - loss: 0.0882 - accuracy: 0.9918 - val_loss: 0.1031 - val_accuracy: 0.9877 - 156ms/epoch - 1ms/step\n",
      "Epoch 29/50\n",
      "122/122 - 0s - loss: 0.0861 - accuracy: 0.9908 - val_loss: 0.1017 - val_accuracy: 0.9836 - 152ms/epoch - 1ms/step\n",
      "Epoch 30/50\n",
      "122/122 - 0s - loss: 0.0848 - accuracy: 0.9897 - val_loss: 0.1012 - val_accuracy: 0.9795 - 155ms/epoch - 1ms/step\n",
      "Epoch 31/50\n",
      "122/122 - 0s - loss: 0.0826 - accuracy: 0.9908 - val_loss: 0.0978 - val_accuracy: 0.9877 - 158ms/epoch - 1ms/step\n",
      "Epoch 32/50\n",
      "122/122 - 0s - loss: 0.0812 - accuracy: 0.9918 - val_loss: 0.0984 - val_accuracy: 0.9795 - 156ms/epoch - 1ms/step\n",
      "Epoch 33/50\n",
      "122/122 - 0s - loss: 0.0793 - accuracy: 0.9918 - val_loss: 0.0954 - val_accuracy: 0.9877 - 158ms/epoch - 1ms/step\n",
      "Epoch 34/50\n",
      "122/122 - 0s - loss: 0.0777 - accuracy: 0.9918 - val_loss: 0.0950 - val_accuracy: 0.9877 - 161ms/epoch - 1ms/step\n",
      "Epoch 35/50\n",
      "122/122 - 0s - loss: 0.0763 - accuracy: 0.9918 - val_loss: 0.0931 - val_accuracy: 0.9877 - 157ms/epoch - 1ms/step\n",
      "Epoch 36/50\n",
      "122/122 - 0s - loss: 0.0748 - accuracy: 0.9918 - val_loss: 0.0917 - val_accuracy: 0.9877 - 157ms/epoch - 1ms/step\n",
      "Epoch 37/50\n",
      "122/122 - 0s - loss: 0.0730 - accuracy: 0.9928 - val_loss: 0.0916 - val_accuracy: 0.9877 - 159ms/epoch - 1ms/step\n",
      "Epoch 38/50\n",
      "122/122 - 0s - loss: 0.0716 - accuracy: 0.9928 - val_loss: 0.0872 - val_accuracy: 0.9877 - 153ms/epoch - 1ms/step\n",
      "Epoch 39/50\n",
      "122/122 - 0s - loss: 0.0703 - accuracy: 0.9938 - val_loss: 0.0886 - val_accuracy: 0.9877 - 155ms/epoch - 1ms/step\n",
      "Epoch 40/50\n",
      "122/122 - 0s - loss: 0.0689 - accuracy: 0.9928 - val_loss: 0.0859 - val_accuracy: 0.9877 - 159ms/epoch - 1ms/step\n",
      "Epoch 41/50\n",
      "122/122 - 0s - loss: 0.0675 - accuracy: 0.9928 - val_loss: 0.0845 - val_accuracy: 0.9877 - 158ms/epoch - 1ms/step\n",
      "Epoch 42/50\n",
      "122/122 - 0s - loss: 0.0662 - accuracy: 0.9918 - val_loss: 0.0823 - val_accuracy: 0.9877 - 153ms/epoch - 1ms/step\n",
      "Epoch 43/50\n",
      "122/122 - 0s - loss: 0.0653 - accuracy: 0.9928 - val_loss: 0.0834 - val_accuracy: 0.9877 - 159ms/epoch - 1ms/step\n",
      "Epoch 44/50\n",
      "122/122 - 0s - loss: 0.0640 - accuracy: 0.9928 - val_loss: 0.0827 - val_accuracy: 0.9877 - 165ms/epoch - 1ms/step\n",
      "Epoch 45/50\n",
      "122/122 - 0s - loss: 0.0624 - accuracy: 0.9928 - val_loss: 0.0802 - val_accuracy: 0.9877 - 161ms/epoch - 1ms/step\n",
      "Epoch 46/50\n",
      "122/122 - 0s - loss: 0.0614 - accuracy: 0.9928 - val_loss: 0.0788 - val_accuracy: 0.9877 - 153ms/epoch - 1ms/step\n",
      "Epoch 47/50\n",
      "122/122 - 0s - loss: 0.0602 - accuracy: 0.9938 - val_loss: 0.0776 - val_accuracy: 0.9877 - 158ms/epoch - 1ms/step\n",
      "Epoch 48/50\n",
      "122/122 - 0s - loss: 0.0594 - accuracy: 0.9938 - val_loss: 0.0782 - val_accuracy: 0.9877 - 155ms/epoch - 1ms/step\n",
      "Epoch 49/50\n",
      "122/122 - 0s - loss: 0.0583 - accuracy: 0.9938 - val_loss: 0.0767 - val_accuracy: 0.9877 - 158ms/epoch - 1ms/step\n",
      "Epoch 50/50\n",
      "122/122 - 0s - loss: 0.0574 - accuracy: 0.9949 - val_loss: 0.0750 - val_accuracy: 0.9877 - 159ms/epoch - 1ms/step\n"
     ]
    }
   ],
   "source": [
    "#fitting the ANN using normalized, balanced data\n",
    "history2 = model.fit(X_train_smote, y_train_smote, batch_size = 8, \n",
    "                     epochs= 50, verbose=2, validation_split=0.2)"
   ]
  },
  {
   "cell_type": "code",
   "execution_count": 19,
   "id": "823ced19",
   "metadata": {},
   "outputs": [
    {
     "data": {
      "text/plain": [
       "<matplotlib.legend.Legend at 0x22fbb018be0>"
      ]
     },
     "execution_count": 19,
     "metadata": {},
     "output_type": "execute_result"
    },
    {
     "data": {
      "image/png": "[encoded data removed]",
      "text/plain": [
       "<Figure size 432x288 with 1 Axes>"
      ]
     },
     "metadata": {
      "needs_background": "light"
     },
     "output_type": "display_data"
    }
   ],
   "source": [
    "#evaluating\n",
    "accuracy = history2.history['accuracy']\n",
    "validation_accuracy = history2.history['val_accuracy']\n",
    "plt.plot(accuracy, label='Training Set Accuracy')\n",
    "plt.plot(validation_accuracy, label='Validation Set Accuracy')\n",
    "plt.ylabel('Accuracy')\n",
    "plt.ylim([min(plt.ylim()),1])\n",
    "plt.title('Training and Validation Accuracy Across Epochs, Balanced')\n",
    "plt.legend()"
   ]
  },
  {
   "cell_type": "code",
   "execution_count": 20,
   "id": "c8b4120b",
   "metadata": {},
   "outputs": [
    {
     "data": {
      "text/plain": [
       "<matplotlib.legend.Legend at 0x22fb9d985b0>"
      ]
     },
     "execution_count": 20,
     "metadata": {},
     "output_type": "execute_result"
    },
    {
     "data": {
      "image/png": "[encoded data removed]",
      "text/plain": [
       "<Figure size 432x288 with 1 Axes>"
      ]
     },
     "metadata": {
      "needs_background": "light"
     },
     "output_type": "display_data"
    }
   ],
   "source": [
    "loss = history2.history['loss']\n",
    "validation_loss = history2.history['val_loss']\n",
    "plt.plot(loss, label='Training Set Loss')\n",
    "plt.plot(validation_loss, label='Validation Set Loss')\n",
    "plt.ylabel('Loss')\n",
    "plt.title('Training and Validation Loss Across Epochs, Balanced')\n",
    "plt.legend()"
   ]
  },
  {
   "cell_type": "code",
   "execution_count": 21,
   "id": "d57c3a50",
   "metadata": {},
   "outputs": [
    {
     "name": "stdout",
     "output_type": "stream",
     "text": [
      "9/9 [==============================] - 0s 877us/step\n"
     ]
    },
    {
     "data": {
      "text/plain": [
       "array([[ True],\n",
       "       [False],\n",
       "       [ True],\n",
       "       [ True],\n",
       "       [ True],\n",
       "       [False],\n",
       "       [ True],\n",
       "       [ True],\n",
       "       [ True],\n",
       "       [False],\n",
       "       [False],\n",
       "       [ True],\n",
       "       [False],\n",
       "       [False],\n",
       "       [False],\n",
       "       [ True],\n",
       "       [ True],\n",
       "       [False],\n",
       "       [False],\n",
       "       [ True],\n",
       "       [ True],\n",
       "       [False],\n",
       "       [ True],\n",
       "       [ True],\n",
       "       [ True],\n",
       "       [ True],\n",
       "       [False],\n",
       "       [False],\n",
       "       [ True],\n",
       "       [ True],\n",
       "       [False],\n",
       "       [False],\n",
       "       [ True],\n",
       "       [ True],\n",
       "       [False],\n",
       "       [ True],\n",
       "       [False],\n",
       "       [False],\n",
       "       [False],\n",
       "       [False],\n",
       "       [ True],\n",
       "       [False],\n",
       "       [ True],\n",
       "       [ True],\n",
       "       [False],\n",
       "       [ True],\n",
       "       [ True],\n",
       "       [False],\n",
       "       [False],\n",
       "       [False],\n",
       "       [False],\n",
       "       [ True],\n",
       "       [ True],\n",
       "       [False],\n",
       "       [ True],\n",
       "       [False],\n",
       "       [ True],\n",
       "       [False],\n",
       "       [ True],\n",
       "       [False],\n",
       "       [ True],\n",
       "       [False],\n",
       "       [False],\n",
       "       [False],\n",
       "       [False],\n",
       "       [False],\n",
       "       [False],\n",
       "       [ True],\n",
       "       [False],\n",
       "       [False],\n",
       "       [ True],\n",
       "       [False],\n",
       "       [False],\n",
       "       [ True],\n",
       "       [False],\n",
       "       [False],\n",
       "       [ True],\n",
       "       [False],\n",
       "       [False],\n",
       "       [False],\n",
       "       [ True],\n",
       "       [False],\n",
       "       [False],\n",
       "       [ True],\n",
       "       [False],\n",
       "       [False],\n",
       "       [False],\n",
       "       [ True],\n",
       "       [False],\n",
       "       [False],\n",
       "       [ True],\n",
       "       [False],\n",
       "       [ True],\n",
       "       [False],\n",
       "       [False],\n",
       "       [False],\n",
       "       [False],\n",
       "       [False],\n",
       "       [False],\n",
       "       [False],\n",
       "       [False],\n",
       "       [ True],\n",
       "       [ True],\n",
       "       [ True],\n",
       "       [False],\n",
       "       [False],\n",
       "       [False],\n",
       "       [False],\n",
       "       [False],\n",
       "       [False],\n",
       "       [False],\n",
       "       [ True],\n",
       "       [ True],\n",
       "       [ True],\n",
       "       [False],\n",
       "       [False],\n",
       "       [False],\n",
       "       [False],\n",
       "       [ True],\n",
       "       [False],\n",
       "       [ True],\n",
       "       [False],\n",
       "       [False],\n",
       "       [False],\n",
       "       [False],\n",
       "       [False],\n",
       "       [ True],\n",
       "       [False],\n",
       "       [ True],\n",
       "       [False],\n",
       "       [False],\n",
       "       [False],\n",
       "       [False],\n",
       "       [False],\n",
       "       [False],\n",
       "       [ True],\n",
       "       [False],\n",
       "       [ True],\n",
       "       [ True],\n",
       "       [ True],\n",
       "       [False],\n",
       "       [False],\n",
       "       [False],\n",
       "       [ True],\n",
       "       [False],\n",
       "       [False],\n",
       "       [ True],\n",
       "       [ True],\n",
       "       [ True],\n",
       "       [ True],\n",
       "       [False],\n",
       "       [ True],\n",
       "       [ True],\n",
       "       [False],\n",
       "       [False],\n",
       "       [ True],\n",
       "       [False],\n",
       "       [False],\n",
       "       [False],\n",
       "       [ True],\n",
       "       [ True],\n",
       "       [False],\n",
       "       [False],\n",
       "       [ True],\n",
       "       [ True],\n",
       "       [ True],\n",
       "       [ True],\n",
       "       [False],\n",
       "       [False],\n",
       "       [False],\n",
       "       [ True],\n",
       "       [ True],\n",
       "       [ True],\n",
       "       [ True],\n",
       "       [False],\n",
       "       [ True],\n",
       "       [ True],\n",
       "       [ True],\n",
       "       [False],\n",
       "       [ True],\n",
       "       [ True],\n",
       "       [ True],\n",
       "       [False],\n",
       "       [ True],\n",
       "       [ True],\n",
       "       [ True],\n",
       "       [ True],\n",
       "       [ True],\n",
       "       [False],\n",
       "       [False],\n",
       "       [False],\n",
       "       [False],\n",
       "       [False],\n",
       "       [ True],\n",
       "       [ True],\n",
       "       [False],\n",
       "       [False],\n",
       "       [False],\n",
       "       [False],\n",
       "       [ True],\n",
       "       [ True],\n",
       "       [ True],\n",
       "       [False],\n",
       "       [False],\n",
       "       [False],\n",
       "       [ True],\n",
       "       [False],\n",
       "       [ True],\n",
       "       [ True],\n",
       "       [False],\n",
       "       [False],\n",
       "       [ True],\n",
       "       [False],\n",
       "       [False],\n",
       "       [False],\n",
       "       [ True],\n",
       "       [ True],\n",
       "       [ True],\n",
       "       [False],\n",
       "       [ True],\n",
       "       [False],\n",
       "       [ True],\n",
       "       [ True],\n",
       "       [ True],\n",
       "       [ True],\n",
       "       [ True],\n",
       "       [ True],\n",
       "       [ True],\n",
       "       [ True],\n",
       "       [False],\n",
       "       [ True],\n",
       "       [ True],\n",
       "       [ True],\n",
       "       [False],\n",
       "       [False],\n",
       "       [False],\n",
       "       [False],\n",
       "       [ True],\n",
       "       [ True],\n",
       "       [False],\n",
       "       [False],\n",
       "       [False],\n",
       "       [False],\n",
       "       [ True],\n",
       "       [False],\n",
       "       [False],\n",
       "       [False],\n",
       "       [ True],\n",
       "       [False],\n",
       "       [False],\n",
       "       [False],\n",
       "       [ True],\n",
       "       [ True],\n",
       "       [ True],\n",
       "       [ True],\n",
       "       [ True],\n",
       "       [False],\n",
       "       [False],\n",
       "       [ True],\n",
       "       [False],\n",
       "       [ True],\n",
       "       [False],\n",
       "       [ True],\n",
       "       [False],\n",
       "       [False],\n",
       "       [False],\n",
       "       [ True],\n",
       "       [False],\n",
       "       [ True],\n",
       "       [ True],\n",
       "       [False],\n",
       "       [False],\n",
       "       [ True],\n",
       "       [ True],\n",
       "       [False]])"
      ]
     },
     "execution_count": 21,
     "metadata": {},
     "output_type": "execute_result"
    }
   ],
   "source": [
    "y_pred_ann2 = model.predict(X_test)\n",
    "y_pred_ann2 = (y_pred_ann2>0.5)\n",
    "y_pred_ann2"
   ]
  },
  {
   "cell_type": "code",
   "execution_count": 22,
   "id": "a381a4b3",
   "metadata": {},
   "outputs": [
    {
     "name": "stdout",
     "output_type": "stream",
     "text": [
      "              precision    recall  f1-score   support\n",
      "\n",
      "           0       1.00      0.98      0.99       153\n",
      "           1       0.98      1.00      0.99       122\n",
      "\n",
      "    accuracy                           0.99       275\n",
      "   macro avg       0.99      0.99      0.99       275\n",
      "weighted avg       0.99      0.99      0.99       275\n",
      "\n"
     ]
    }
   ],
   "source": [
    "print(classification_report(y_test,y_pred_ann2))"
   ]
  },
  {
   "cell_type": "code",
   "execution_count": 23,
   "id": "1ea310df",
   "metadata": {},
   "outputs": [
    {
     "data": {
      "image/png": "[encoded data removed]",
      "text/plain": [
       "<Figure size 432x288 with 2 Axes>"
      ]
     },
     "metadata": {
      "needs_background": "light"
     },
     "output_type": "display_data"
    }
   ],
   "source": [
    "from sklearn.metrics import confusion_matrix, classification_report\n",
    "\n",
    "confusion_matrix = confusion_matrix(y_test,y_pred_ann2)\n",
    "\n",
    "ax = sns.heatmap(confusion_matrix, cmap='flare',annot=True, fmt='d')\n",
    "plt.xlabel(\"Predicted Class\",fontsize=12)\n",
    "plt.ylabel(\"True Class\",fontsize=12)\n",
    "plt.title(\"Confusion Matrix, Balanced\",fontsize=12)\n",
    "plt.show()"
   ]
  }
 ],
 "metadata": {
  "kernelspec": {
   "display_name": "Python 3 (ipykernel)",
   "language": "python",
   "name": "python3"
  },
  "language_info": {
   "codemirror_mode": {
    "name": "ipython",
    "version": 3
   },
   "file_extension": ".py",
   "mimetype": "text/x-python",
   "name": "python",
   "nbconvert_exporter": "python",
   "pygments_lexer": "ipython3",
   "version": "3.9.12"
  }
 },
 "nbformat": 4,
 "nbformat_minor": 5
}
